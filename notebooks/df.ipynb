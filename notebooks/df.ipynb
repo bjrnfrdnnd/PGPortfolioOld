{
 "cells": [
  {
   "cell_type": "code",
   "execution_count": 1,
   "metadata": {},
   "outputs": [],
   "source": [
    "import sqlite3\n",
    "import pandas as pd\n",
    "from plotnine.data import economics\n",
    "from plotnine import ggplot, aes, geom_line, ylim"
   ]
  },
  {
   "cell_type": "code",
   "execution_count": 2,
   "metadata": {},
   "outputs": [],
   "source": [
    "DATABASE_DIR='/home/bn/PycharmProjects/trading/oanda/PGPortfolio/database/Data.db'"
   ]
  },
  {
   "cell_type": "code",
   "execution_count": 3,
   "metadata": {},
   "outputs": [],
   "source": [
    "connection = sqlite3.connect(DATABASE_DIR)"
   ]
  },
  {
   "cell_type": "code",
   "execution_count": 4,
   "metadata": {},
   "outputs": [],
   "source": [
    "sql = (\n",
    "    \"\"\"SELECT DATETIME(ROUND(date), 'unixepoch') AS isodate\n",
    "     , date\n",
    "    , coin\n",
    "    , close\n",
    "       FROM History\n",
    "\"\"\"\n",
    ")"
   ]
  },
  {
   "cell_type": "code",
   "execution_count": null,
   "metadata": {},
   "outputs": [],
   "source": [
    "sql2 = (\n",
    "\"\"\"\n",
    "select t1.*\n",
    "    ,t1.close / t1.prev_close as r_close\n",
    "   from\n",
    "                 (select DATETIME(ROUND(date), 'unixepoch') AS isodate\n",
    "     , date\n",
    "    , coin\n",
    "    , close\n",
    "  , (select close\n",
    "   from History b\n",
    "   where b.date = a.date - 300\n",
    "      and b.coin = a.coin) as prev_close\n",
    "from History a)\n",
    "as t1\n",
    "order by t1.coin, t1.date ;\n",
    "\n",
    "select t2.* from\n",
    "                 (select t1.*\n",
    "    ,t1.close / t1.prev_close as r_close\n",
    "   from\n",
    "                 (select DATETIME(ROUND(date), 'unixepoch') AS isodate\n",
    "     , date\n",
    "    , coin\n",
    "    , close\n",
    "  , (select close\n",
    "   from History b\n",
    "   where b.date = a.date - 300\n",
    "      and b.coin = a.coin) as prev_close\n",
    "from History a)\n",
    "as t1 ) as t2\n",
    "where t2.r_close > 2\n",
    "order by t2.coin, t2.date\n",
    "\"\"\")"
   ]
  },
  {
   "cell_type": "code",
   "execution_count": 5,
   "metadata": {},
   "outputs": [],
   "source": [
    "# df: pd.DataFrame = pd.read_sql_query(sql, con=connection, parse_dates=[\"isodate\"])"
   ]
  },
  {
   "cell_type": "code",
   "execution_count": 6,
   "metadata": {},
   "outputs": [],
   "source": [
    "# df.to_feather('/home/bn/PycharmProjects/trading/oanda/PGPortfolio/database/Data.feather')"
   ]
  },
  {
   "cell_type": "code",
   "execution_count": 7,
   "metadata": {},
   "outputs": [],
   "source": [
    "df= pd.read_feather('/home/bn/PycharmProjects/trading/oanda/PGPortfolio/database/Data.feather')"
   ]
  },
  {
   "cell_type": "code",
   "execution_count": 8,
   "metadata": {},
   "outputs": [],
   "source": [
    "df = df.set_index('date')"
   ]
  },
  {
   "cell_type": "code",
   "execution_count": 9,
   "metadata": {},
   "outputs": [
    {
     "data": {
      "text/html": [
       "<div>\n",
       "<style scoped>\n",
       "    .dataframe tbody tr th:only-of-type {\n",
       "        vertical-align: middle;\n",
       "    }\n",
       "\n",
       "    .dataframe tbody tr th {\n",
       "        vertical-align: top;\n",
       "    }\n",
       "\n",
       "    .dataframe thead th {\n",
       "        text-align: right;\n",
       "    }\n",
       "</style>\n",
       "<table border=\"1\" class=\"dataframe\">\n",
       "  <thead>\n",
       "    <tr style=\"text-align: right;\">\n",
       "      <th></th>\n",
       "      <th>isodate</th>\n",
       "      <th>coin</th>\n",
       "      <th>close</th>\n",
       "    </tr>\n",
       "    <tr>\n",
       "      <th>date</th>\n",
       "      <th></th>\n",
       "      <th></th>\n",
       "      <th></th>\n",
       "    </tr>\n",
       "  </thead>\n",
       "  <tbody>\n",
       "    <tr>\n",
       "      <th>1439010600</th>\n",
       "      <td>2015-08-08 05:10:00</td>\n",
       "      <td>ETH</td>\n",
       "      <td>0.009000</td>\n",
       "    </tr>\n",
       "    <tr>\n",
       "      <th>1439010900</th>\n",
       "      <td>2015-08-08 05:15:00</td>\n",
       "      <td>ETH</td>\n",
       "      <td>0.009000</td>\n",
       "    </tr>\n",
       "    <tr>\n",
       "      <th>1439011200</th>\n",
       "      <td>2015-08-08 05:20:00</td>\n",
       "      <td>ETH</td>\n",
       "      <td>0.009010</td>\n",
       "    </tr>\n",
       "    <tr>\n",
       "      <th>1439011500</th>\n",
       "      <td>2015-08-08 05:25:00</td>\n",
       "      <td>ETH</td>\n",
       "      <td>0.005501</td>\n",
       "    </tr>\n",
       "    <tr>\n",
       "      <th>1439011800</th>\n",
       "      <td>2015-08-08 05:30:00</td>\n",
       "      <td>ETH</td>\n",
       "      <td>0.009300</td>\n",
       "    </tr>\n",
       "    <tr>\n",
       "      <th>...</th>\n",
       "      <td>...</td>\n",
       "      <td>...</td>\n",
       "      <td>...</td>\n",
       "    </tr>\n",
       "    <tr>\n",
       "      <th>1577831700</th>\n",
       "      <td>2019-12-31 22:35:00</td>\n",
       "      <td>ATOM</td>\n",
       "      <td>0.000585</td>\n",
       "    </tr>\n",
       "    <tr>\n",
       "      <th>1577832000</th>\n",
       "      <td>2019-12-31 22:40:00</td>\n",
       "      <td>ATOM</td>\n",
       "      <td>0.000585</td>\n",
       "    </tr>\n",
       "    <tr>\n",
       "      <th>1577832300</th>\n",
       "      <td>2019-12-31 22:45:00</td>\n",
       "      <td>ATOM</td>\n",
       "      <td>0.000585</td>\n",
       "    </tr>\n",
       "    <tr>\n",
       "      <th>1577832600</th>\n",
       "      <td>2019-12-31 22:50:00</td>\n",
       "      <td>ATOM</td>\n",
       "      <td>0.000585</td>\n",
       "    </tr>\n",
       "    <tr>\n",
       "      <th>1577832900</th>\n",
       "      <td>2019-12-31 22:55:00</td>\n",
       "      <td>ATOM</td>\n",
       "      <td>0.000586</td>\n",
       "    </tr>\n",
       "  </tbody>\n",
       "</table>\n",
       "<p>5840540 rows × 3 columns</p>\n",
       "</div>"
      ],
      "text/plain": [
       "                       isodate  coin     close\n",
       "date                                          \n",
       "1439010600 2015-08-08 05:10:00   ETH  0.009000\n",
       "1439010900 2015-08-08 05:15:00   ETH  0.009000\n",
       "1439011200 2015-08-08 05:20:00   ETH  0.009010\n",
       "1439011500 2015-08-08 05:25:00   ETH  0.005501\n",
       "1439011800 2015-08-08 05:30:00   ETH  0.009300\n",
       "...                        ...   ...       ...\n",
       "1577831700 2019-12-31 22:35:00  ATOM  0.000585\n",
       "1577832000 2019-12-31 22:40:00  ATOM  0.000585\n",
       "1577832300 2019-12-31 22:45:00  ATOM  0.000585\n",
       "1577832600 2019-12-31 22:50:00  ATOM  0.000585\n",
       "1577832900 2019-12-31 22:55:00  ATOM  0.000586\n",
       "\n",
       "[5840540 rows x 3 columns]"
      ]
     },
     "execution_count": 9,
     "metadata": {},
     "output_type": "execute_result"
    }
   ],
   "source": [
    "df"
   ]
  },
  {
   "cell_type": "code",
   "execution_count": 10,
   "metadata": {},
   "outputs": [
    {
     "data": {
      "image/png": "[encoded data removed]",
      "text/plain": [
       "<Figure size 640x480 with 1 Axes>"
      ]
     },
     "metadata": {},
     "output_type": "display_data"
    },
    {
     "data": {
      "text/plain": [
       "<ggplot: (8785077101508)>"
      ]
     },
     "execution_count": 10,
     "metadata": {},
     "output_type": "execute_result"
    }
   ],
   "source": [
    "(\n",
    "    ggplot(df)  # What data to use\n",
    "    + aes(x=\"isodate\", y=\"close\", color=\"coin\")  # What variable to use\n",
    "    + geom_line()  # Geometric object to use for drawing\n",
    "    + ylim(0, 1)\n",
    ")"
   ]
  }
 ],
 "metadata": {
  "kernelspec": {
   "display_name": "Python 3",
   "language": "python",
   "name": "python3"
  },
  "language_info": {
   "codemirror_mode": {
    "name": "ipython",
    "version": 3
   },
   "file_extension": ".py",
   "mimetype": "text/x-python",
   "name": "python",
   "nbconvert_exporter": "python",
   "pygments_lexer": "ipython3",
   "version": "3.8.3"
  }
 },
 "nbformat": 4,
 "nbformat_minor": 1
}